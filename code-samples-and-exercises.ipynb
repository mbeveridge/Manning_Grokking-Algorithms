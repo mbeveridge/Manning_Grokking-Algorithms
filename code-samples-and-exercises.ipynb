{
 "cells": [
  {
   "cell_type": "markdown",
   "metadata": {},
   "source": [
    "## Chapter 1 : Introduction to algorithms"
   ]
  },
  {
   "cell_type": "markdown",
   "metadata": {},
   "source": [
    "### §Binary search"
   ]
  },
  {
   "cell_type": "markdown",
   "metadata": {},
   "source": [
    "#### Code from P.9 of book :"
   ]
  },
  {
   "cell_type": "code",
   "execution_count": 4,
   "metadata": {},
   "outputs": [
    {
     "name": "stdout",
     "output_type": "stream",
     "text": [
      "1\n",
      "None\n"
     ]
    }
   ],
   "source": [
    "def binary_search(list, item):\n",
    "  # low and high keep track of which part of the list you'll search in.\n",
    "  low = 0\n",
    "  high = len(list) - 1\n",
    "\n",
    "  # While you haven't narrowed it down to one element...\n",
    "  while low <= high:\n",
    "    # ...check the middle element.\n",
    "    mid = (low + high) // 2          # Floor Division(//) operator, returns the integer part\n",
    "    guess = list[mid]\n",
    "    # Found the item.\n",
    "    if guess == item:\n",
    "      return mid\n",
    "    # The guess was too high.\n",
    "    if guess > item:\n",
    "      high = mid - 1\n",
    "    # The guess was too low.\n",
    "    else:\n",
    "      low = mid + 1\n",
    "  # Item doesn't exist\n",
    "  return None\n",
    "\n",
    "\n",
    "# Let's test it!\n",
    "my_list = [1, 3, 5, 7, 9]\n",
    "print(binary_search(my_list, 3)) # => 1. (Search for item with value=3 returns Index 1. Lists start at Index 0)\n",
    "\n",
    "# 'None' means nil in Python. We use it to indicate that the item wasn't found.\n",
    "print(binary_search(my_list, -1)) # => None. (Search for item with value=-1)"
   ]
  },
  {
   "cell_type": "markdown",
   "metadata": {},
   "source": [
    "#### Exercises"
   ]
  },
  {
   "cell_type": "markdown",
   "metadata": {},
   "source": [
    "**1.1** *Suppose you have a sorted list of 128 names, and you're searching through it using binary search. What's the maximum number of steps it would take?*"
   ]
  },
  {
   "cell_type": "markdown",
   "metadata": {},
   "source": [
    "log2 128 = 7. So after 7 steps there would be 2 items, of which you'd selected one. After testing that one, you'd know which item is the answer (but it might not be the one you selected). So, by the convention in the book, the answer is 8 steps maximum"
   ]
  },
  {
   "cell_type": "markdown",
   "metadata": {},
   "source": [
    "**1.2** *Suppose you double the size of the list. What's the maximum number of steps now?*"
   ]
  },
  {
   "cell_type": "markdown",
   "metadata": {},
   "source": [
    "Doubling the size would add one step (log2 256 = 8). So 9 steps maximum"
   ]
  },
  {
   "cell_type": "markdown",
   "metadata": {},
   "source": [
    "### §Big O notation"
   ]
  },
  {
   "cell_type": "markdown",
   "metadata": {},
   "source": [
    "#### Exercises : Give the run time for each of these scenarios in terms of Big O."
   ]
  },
  {
   "cell_type": "markdown",
   "metadata": {},
   "source": [
    "**1.3** *You have a name, and you want to find the person's phone number in the phone book.*"
   ]
  },
  {
   "cell_type": "markdown",
   "metadata": {},
   "source": [
    "Phone book is a list that is sorted by name. So, using binary search, O(log n)"
   ]
  },
  {
   "cell_type": "markdown",
   "metadata": {},
   "source": [
    "**1.4** *You have a phone number, and you want to find the person's phone number in the phone book. (Hint: You'll have to search through the whole book!)*"
   ]
  },
  {
   "cell_type": "markdown",
   "metadata": {},
   "source": [
    "O(n)"
   ]
  },
  {
   "cell_type": "markdown",
   "metadata": {},
   "source": [
    "**1.5** *You want to read the numbers of every person in the phone book.*"
   ]
  },
  {
   "cell_type": "markdown",
   "metadata": {},
   "source": [
    "O(n)"
   ]
  },
  {
   "cell_type": "markdown",
   "metadata": {},
   "source": [
    "**1.6** *You want to read the numbers of just the A's. (This is a tricky one! It involves concepts that are covered more in chapter 4. Read the answer [P.221, 222] - you may be surprised!)*"
   ]
  },
  {
   "cell_type": "markdown",
   "metadata": {},
   "source": [
    "O(n)"
   ]
  },
  {
   "cell_type": "markdown",
   "metadata": {},
   "source": [
    "## Chapter 2 : Selection sort"
   ]
  },
  {
   "cell_type": "markdown",
   "metadata": {},
   "source": [
    "### §Arrays and linked lists"
   ]
  },
  {
   "cell_type": "markdown",
   "metadata": {},
   "source": [
    "#### Exercises"
   ]
  },
  {
   "cell_type": "markdown",
   "metadata": {},
   "source": [
    "**2.1** *Suppose you're building an app to keep track of your finances. Every day, you write down everything you spent money on. At the end of the month, you review your expenses and sum up how much you spent. So, you have lots of inserts and a few reads.* **Should you use an array or a list?**"
   ]
  },
  {
   "cell_type": "markdown",
   "metadata": {},
   "source": [
    "List"
   ]
  },
  {
   "cell_type": "markdown",
   "metadata": {},
   "source": [
    "**2.2** *Suppose you’re building an app for restaurants to take customer orders. Your app needs to store a list of orders. Servers keep adding orders to this list, and chefs take orders off the list and make them. It’s an order queue: servers add orders to the back of the queue, and the chef takes the first order off the queue and cooks it.* **Would you use an array or a linked list to implement this queue?** *(Hint: Linked lists are good for inserts/deletes, and arrays are good for random access. Which one are you going to be doing here?)*\n"
   ]
  },
  {
   "cell_type": "markdown",
   "metadata": {},
   "source": [
    "xxx"
   ]
  },
  {
   "cell_type": "markdown",
   "metadata": {},
   "source": [
    "**2.3** *Let’s run a thought experiment. Suppose Facebook keeps a list of usernames. When someone tries to log in to Facebook, a search is done for their username. If their name is in the list of usernames, they can log in. People log in to Facebook pretty often, so there are a lot of searches through this list of usernames. Suppose Facebook uses binary search to search the list. Binary search needs random access—you need to be able to get to the middle of the list of usernames instantly.* **Knowing this, would you implement the list as an array or a linked list?**"
   ]
  },
  {
   "cell_type": "markdown",
   "metadata": {},
   "source": [
    "xxx"
   ]
  },
  {
   "cell_type": "markdown",
   "metadata": {},
   "source": [
    "**2.4** *People sign up for Facebook pretty often, too. Suppose you decided to use an array to store the list of users.* **What are the downsides of an array for inserts? In particular, suppose you’re using binary search to search for logins. What happens when you add new users to an array?**"
   ]
  },
  {
   "cell_type": "markdown",
   "metadata": {},
   "source": [
    "xxx"
   ]
  },
  {
   "cell_type": "markdown",
   "metadata": {},
   "source": [
    "**2.5** *In reality, Facebook uses neither an array nor a linked list to store user information. Let’s consider a hybrid data structure: an array of linked lists. You have an array with 26 slots. Each slot points to a linked list. For example, the first slot in the array points to a linked list containing all the usernames starting with a. The second slot points to a linked list containing all the usernames starting with b, and so on.*\n",
    "\n",
    "*Suppose Adit B signs up for Facebook, and you want to add them to the list. You go to slot 1 in the array, go to the linked list for slot 1, and add Adit B at the end. Now, suppose you want to search for Zakhir H. You go to slot 26, which points to a linked list of all the Z names. Then you search through that list to find Zakhir H.*\n",
    "\n",
    "*Compare this hybrid data structure to arrays and linked lists.* **Is it slower or faster than each for searching and inserting?** *You don’t have to give Big O run times, just whether the new data structure would be faster or slower.*"
   ]
  },
  {
   "cell_type": "markdown",
   "metadata": {},
   "source": [
    "xxx"
   ]
  },
  {
   "cell_type": "markdown",
   "metadata": {},
   "source": [
    "### §Selection sort"
   ]
  },
  {
   "cell_type": "markdown",
   "metadata": {},
   "source": [
    "#### Code from P.35 of book :"
   ]
  },
  {
   "cell_type": "code",
   "execution_count": 3,
   "metadata": {},
   "outputs": [
    {
     "name": "stdout",
     "output_type": "stream",
     "text": [
      "[2, 3, 5, 6, 10]\n"
     ]
    }
   ],
   "source": [
    "# Finds the smallest value in an array\n",
    "def findSmallest(arr):\n",
    "  # Stores the smallest value\n",
    "  smallest = arr[0]\n",
    "  # Stores the index of the smallest value\n",
    "  smallest_index = 0\n",
    "  for i in range(1, len(arr)):          # `start` is optional and defaults to 0 (but here is set to 1)\n",
    "    if arr[i] < smallest:\n",
    "      smallest_index = i\n",
    "      smallest = arr[i]      \n",
    "  return smallest_index\n",
    "\n",
    "# Sort array\n",
    "def selectionSort(arr):\n",
    "  newArr = []\n",
    "  for i in range(len(arr)):             # `start` is optional and defaults to 0\n",
    "      # Finds the smallest element in the array and adds it to the new array\n",
    "      smallest = findSmallest(arr)\n",
    "      newArr.append(arr.pop(smallest))\n",
    "  return newArr\n",
    "\n",
    "print(selectionSort([5, 3, 6, 2, 10]))"
   ]
  },
  {
   "cell_type": "code",
   "execution_count": null,
   "metadata": {},
   "outputs": [],
   "source": []
  }
 ],
 "metadata": {
  "kernelspec": {
   "display_name": "Python 3",
   "language": "python",
   "name": "python3"
  },
  "language_info": {
   "codemirror_mode": {
    "name": "ipython",
    "version": 3
   },
   "file_extension": ".py",
   "mimetype": "text/x-python",
   "name": "python",
   "nbconvert_exporter": "python",
   "pygments_lexer": "ipython3",
   "version": "3.6.8"
  }
 },
 "nbformat": 4,
 "nbformat_minor": 2
}
